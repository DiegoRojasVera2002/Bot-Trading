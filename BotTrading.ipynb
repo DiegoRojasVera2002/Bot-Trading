{
 "cells": [
  {
   "cell_type": "code",
   "execution_count": 22,
   "id": "48a75888",
   "metadata": {},
   "outputs": [],
   "source": [
    "from bs4 import BeautifulSoup\n",
    "import pandas as pd\n",
    "import numpy as np\n",
    "import matplotlib.pyplot as plt\n",
    "import time \n",
    "import requests\n",
    "import yfinance as yf"
   ]
  },
  {
   "cell_type": "code",
   "execution_count": 23,
   "id": "c0104362",
   "metadata": {},
   "outputs": [],
   "source": [
    "def extraer_tendencias():\n",
    "    global df_bitcoin, precio_actual, tendencia, media_bitcoin,  algoritmo_decision\n",
    "    headers = {'User-Agent':'Mozilla/5.0 (Windows NT 10.0; Win64; x64) AppleWebKit/537.36 (KHTML, like Gecko) Chrome/118.0.0.0 Safari/537.36'}\n",
    "    url = 'https://coinmarketcap.com/es/'\n",
    "    respuesta = requests.get(url,headers=headers)\n",
    "    s = BeautifulSoup(respuesta.content, features = 'lxml')\n",
    "    precio = s.findAll('div', {'class':['sc-a0353bbc-0 gDrtaY','sc-a0353bbc-0 gDrtaY fall', 'sc-a0353bbc-0 gDrtaY rise']})\n",
    "    for item in precio:\n",
    "        precio_actual = float(item.getText().strip().replace('$', '').replace(',', ''))\n",
    "    list = []\n",
    "    respuesta = s.findAll('span', {'class':['sc-d55c02b-0 iwhBxy','sc-d55c02b-0 gUnzUB']})\n",
    "    for item in respuesta[::3]:\n",
    "        list.append(item)\n",
    "    for i in range(len(list)):\n",
    "        if list[i].find('span')['class'][0] == 'icon-Caret-down':\n",
    "              tendencia = 'Baja'\n",
    "        else:\n",
    "              tendencia = 'Alta'"
   ]
  },
  {
   "cell_type": "code",
   "execution_count": 24,
   "id": "8eb848e3",
   "metadata": {},
   "outputs": [],
   "source": [
    "def importar_base_bitcoin(symbol):\n",
    "    global df_bitcoin, precio_actual, tendencia, media_bitcoin,  algoritmo_decision\n",
    "    btc = yf.Ticker(symbol)\n",
    "    historical_data = btc.history(period=\"7d\", interval=\"5m\")\n",
    "    df_bitcoin = pd.DataFrame(historical_data)"
   ]
  },
  {
   "cell_type": "code",
   "execution_count": 25,
   "id": "da33e0b2",
   "metadata": {},
   "outputs": [
    {
     "data": {
      "text/html": [
       "<div>\n",
       "<style scoped>\n",
       "    .dataframe tbody tr th:only-of-type {\n",
       "        vertical-align: middle;\n",
       "    }\n",
       "\n",
       "    .dataframe tbody tr th {\n",
       "        vertical-align: top;\n",
       "    }\n",
       "\n",
       "    .dataframe thead th {\n",
       "        text-align: right;\n",
       "    }\n",
       "</style>\n",
       "<table border=\"1\" class=\"dataframe\">\n",
       "  <thead>\n",
       "    <tr style=\"text-align: right;\">\n",
       "      <th></th>\n",
       "      <th>Open</th>\n",
       "      <th>High</th>\n",
       "      <th>Low</th>\n",
       "      <th>Close</th>\n",
       "      <th>Volume</th>\n",
       "      <th>Dividends</th>\n",
       "      <th>Stock Splits</th>\n",
       "    </tr>\n",
       "    <tr>\n",
       "      <th>Datetime</th>\n",
       "      <th></th>\n",
       "      <th></th>\n",
       "      <th></th>\n",
       "      <th></th>\n",
       "      <th></th>\n",
       "      <th></th>\n",
       "      <th></th>\n",
       "    </tr>\n",
       "  </thead>\n",
       "  <tbody>\n",
       "    <tr>\n",
       "      <th>2023-10-17 00:00:00+00:00</th>\n",
       "      <td>28522.097656</td>\n",
       "      <td>28540.667969</td>\n",
       "      <td>28514.380859</td>\n",
       "      <td>28540.667969</td>\n",
       "      <td>0</td>\n",
       "      <td>0.0</td>\n",
       "      <td>0.0</td>\n",
       "    </tr>\n",
       "    <tr>\n",
       "      <th>2023-10-17 00:05:00+00:00</th>\n",
       "      <td>28546.552734</td>\n",
       "      <td>28559.431641</td>\n",
       "      <td>28512.556641</td>\n",
       "      <td>28512.556641</td>\n",
       "      <td>24692736</td>\n",
       "      <td>0.0</td>\n",
       "      <td>0.0</td>\n",
       "    </tr>\n",
       "    <tr>\n",
       "      <th>2023-10-17 00:10:00+00:00</th>\n",
       "      <td>28512.556641</td>\n",
       "      <td>28512.556641</td>\n",
       "      <td>28499.109375</td>\n",
       "      <td>28499.109375</td>\n",
       "      <td>20992000</td>\n",
       "      <td>0.0</td>\n",
       "      <td>0.0</td>\n",
       "    </tr>\n",
       "    <tr>\n",
       "      <th>2023-10-17 00:15:00+00:00</th>\n",
       "      <td>28484.177734</td>\n",
       "      <td>28484.177734</td>\n",
       "      <td>28463.269531</td>\n",
       "      <td>28463.269531</td>\n",
       "      <td>0</td>\n",
       "      <td>0.0</td>\n",
       "      <td>0.0</td>\n",
       "    </tr>\n",
       "    <tr>\n",
       "      <th>2023-10-17 00:20:00+00:00</th>\n",
       "      <td>28465.617188</td>\n",
       "      <td>28472.287109</td>\n",
       "      <td>28465.617188</td>\n",
       "      <td>28472.287109</td>\n",
       "      <td>14622720</td>\n",
       "      <td>0.0</td>\n",
       "      <td>0.0</td>\n",
       "    </tr>\n",
       "  </tbody>\n",
       "</table>\n",
       "</div>"
      ],
      "text/plain": [
       "                                   Open          High           Low  \\\n",
       "Datetime                                                              \n",
       "2023-10-17 00:00:00+00:00  28522.097656  28540.667969  28514.380859   \n",
       "2023-10-17 00:05:00+00:00  28546.552734  28559.431641  28512.556641   \n",
       "2023-10-17 00:10:00+00:00  28512.556641  28512.556641  28499.109375   \n",
       "2023-10-17 00:15:00+00:00  28484.177734  28484.177734  28463.269531   \n",
       "2023-10-17 00:20:00+00:00  28465.617188  28472.287109  28465.617188   \n",
       "\n",
       "                                  Close    Volume  Dividends  Stock Splits  \n",
       "Datetime                                                                    \n",
       "2023-10-17 00:00:00+00:00  28540.667969         0        0.0           0.0  \n",
       "2023-10-17 00:05:00+00:00  28512.556641  24692736        0.0           0.0  \n",
       "2023-10-17 00:10:00+00:00  28499.109375  20992000        0.0           0.0  \n",
       "2023-10-17 00:15:00+00:00  28463.269531         0        0.0           0.0  \n",
       "2023-10-17 00:20:00+00:00  28472.287109  14622720        0.0           0.0  "
      ]
     },
     "execution_count": 25,
     "metadata": {},
     "output_type": "execute_result"
    }
   ],
   "source": [
    "importar_base_bitcoin('BTC-USD')\n",
    "df_bitcoin.head()"
   ]
  },
  {
   "cell_type": "code",
   "execution_count": 44,
   "id": "90a6b86b",
   "metadata": {},
   "outputs": [],
   "source": [
    "def limpieza_datos():\n",
    "    global media_bitcoin, df_bitcoin_limpio\n",
    "    df_bitcoin_limpio = df_bitcoin.copy()\n",
    "    df_bitcoin_limpio = df_bitcoin_limpio[df_bitcoin_limpio.index.duplicated(keep='first')]\n",
    "    df_bitcoin_limpio = df_bitcoin_limpio[df_bitcoin_limpio[\"Close\"].isnull()]\n",
    "    df_bitcoin_limpio = df_bitcoin_limpio[df_bitcoin_limpio[\"Volume\"] > 0]\n",
    "    Q1 = df_bitcoin_limpio[\"Close\"].quantile(0.25)\n",
    "    Q3 = df_bitcoin_limpio[\"Close\"].quantile(0.75)\n",
    "    df_bitcoin_limpio = df_bitcoin_limpio[(df_bitcoin_limpio[\"Close\"] >= Q1) & (df_bitcoin_limpio[\"Close\"] <= Q3)]\n",
    "    media_bitcoin = df_bitcoin_limpio[\"Close\"].mean()\n",
    "    media_bitcoin"
   ]
  },
  {
   "cell_type": "code",
   "execution_count": 45,
   "id": "82a53e0c",
   "metadata": {},
   "outputs": [
    {
     "name": "stdout",
     "output_type": "stream",
     "text": [
      "La media es nan\n"
     ]
    },
    {
     "data": {
      "image/png": "[encoded data removed]",
      "text/plain": [
       "<Figure size 640x480 with 1 Axes>"
      ]
     },
     "metadata": {},
     "output_type": "display_data"
    }
   ],
   "source": [
    "limpieza_datos()\n",
    "df_bitcoin_limpio.boxplot(['Close'])\n",
    "print(f'La media es {media_bitcoin}')"
   ]
  },
  {
   "cell_type": "code",
   "execution_count": null,
   "id": "5446c2a9",
   "metadata": {},
   "outputs": [],
   "source": []
  }
 ],
 "metadata": {
  "kernelspec": {
   "display_name": "Python 3 (ipykernel)",
   "language": "python",
   "name": "python3"
  },
  "language_info": {
   "codemirror_mode": {
    "name": "ipython",
    "version": 3
   },
   "file_extension": ".py",
   "mimetype": "text/x-python",
   "name": "python",
   "nbconvert_exporter": "python",
   "pygments_lexer": "ipython3",
   "version": "3.11.4"
  }
 },
 "nbformat": 4,
 "nbformat_minor": 5
}
